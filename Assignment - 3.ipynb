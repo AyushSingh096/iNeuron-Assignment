{
 "cells": [
  {
   "cell_type": "code",
   "execution_count": null,
   "id": "970a7ba8",
   "metadata": {},
   "outputs": [],
   "source": []
  },
  {
   "cell_type": "markdown",
   "id": "3565e175",
   "metadata": {},
   "source": [
    "# Assignment-3"
   ]
  },
  {
   "cell_type": "code",
   "execution_count": 11,
   "id": "5820d779",
   "metadata": {},
   "outputs": [],
   "source": [
    "#2. Implement List comprehensions to produce the following lists. \n",
    "#Write List comprehensions to produce the following Lists\n",
    "\n",
    "# a. ['x', 'xx', 'xxx', 'xxxx', 'y', 'yy', 'yyy', 'yyyy', 'z', 'zz', 'zzz', 'zzzz'] "
   ]
  },
  {
   "cell_type": "code",
   "execution_count": 1,
   "id": "2e622365",
   "metadata": {},
   "outputs": [],
   "source": [
    "a = ['x','y','z']"
   ]
  },
  {
   "cell_type": "code",
   "execution_count": 23,
   "id": "2d0b92d1",
   "metadata": {},
   "outputs": [
    {
     "name": "stdout",
     "output_type": "stream",
     "text": [
      "x,xx,xxx,xxxx,y,yy,yyy,yyyy,z,zz,zzz,zzzz,"
     ]
    }
   ],
   "source": [
    "for j in a:\n",
    "    for i in range(4):\n",
    "        for i in range(i+1):\n",
    "            print(j,end='')\n",
    "        print(',',end='')"
   ]
  },
  {
   "cell_type": "code",
   "execution_count": null,
   "id": "98b8ae3b",
   "metadata": {},
   "outputs": [],
   "source": [
    "# a. ['x', 'xx', 'xxx', 'xxxx', 'y', 'yy', 'yyy', 'yyyy', 'z', 'zz', 'zzz', 'zzzz'] "
   ]
  },
  {
   "cell_type": "code",
   "execution_count": 25,
   "id": "d82c777a",
   "metadata": {},
   "outputs": [
    {
     "data": {
      "text/plain": [
       "['x', 'xx', 'xxx', 'xxxx', 'y', 'yy', 'yyy', 'yyyy', 'z', 'zz', 'zzz', 'zzzz']"
      ]
     },
     "execution_count": 25,
     "metadata": {},
     "output_type": "execute_result"
    }
   ],
   "source": [
    "[j * i for j in a for i in range(1,5)]"
   ]
  },
  {
   "cell_type": "code",
   "execution_count": null,
   "id": "a2f5c663",
   "metadata": {},
   "outputs": [],
   "source": [
    "# b.['x', 'y', 'z', 'xx', 'yy', 'zz', 'xxx', 'yyy', 'zzz', 'xxxx', 'yyyy', 'zzzz']"
   ]
  },
  {
   "cell_type": "code",
   "execution_count": 26,
   "id": "2e24cae3",
   "metadata": {},
   "outputs": [
    {
     "data": {
      "text/plain": [
       "['x', 'y', 'z']"
      ]
     },
     "execution_count": 26,
     "metadata": {},
     "output_type": "execute_result"
    }
   ],
   "source": [
    "a"
   ]
  },
  {
   "cell_type": "code",
   "execution_count": 42,
   "id": "85d01299",
   "metadata": {},
   "outputs": [
    {
     "data": {
      "text/plain": [
       "['x', 'y', 'z', 'xx', 'yy', 'zz', 'xxx', 'yyy', 'zzz', 'xxxx', 'yyyy', 'zzzz']"
      ]
     },
     "execution_count": 42,
     "metadata": {},
     "output_type": "execute_result"
    }
   ],
   "source": [
    "[i*j for i in range(1,5) for j in a]"
   ]
  },
  {
   "cell_type": "code",
   "execution_count": null,
   "id": "f9b7937e",
   "metadata": {},
   "outputs": [],
   "source": [
    "# c.[[2], [3], [4], [3], [4], [5], [4], [5], [6]] "
   ]
  },
  {
   "cell_type": "code",
   "execution_count": 48,
   "id": "a05c26aa",
   "metadata": {},
   "outputs": [
    {
     "data": {
      "text/plain": [
       "[[2], [3], [4], [3], [4], [5], [4], [5], [6]]"
      ]
     },
     "execution_count": 48,
     "metadata": {},
     "output_type": "execute_result"
    }
   ],
   "source": [
    "[[a+b] for a in range(2,5) for b in range(3)]"
   ]
  },
  {
   "cell_type": "code",
   "execution_count": null,
   "id": "07f0d24e",
   "metadata": {},
   "outputs": [],
   "source": [
    "# d.[[2, 3, 4, 5], [3, 4, 5, 6], [4, 5, 6, 7], [5, 6, 7, 8]]"
   ]
  },
  {
   "cell_type": "code",
   "execution_count": 55,
   "id": "2f3581e8",
   "metadata": {},
   "outputs": [
    {
     "data": {
      "text/plain": [
       "[[2, 3, 4, 5], [3, 4, 5, 6], [4, 5, 6, 7], [5, 6, 7, 8]]"
      ]
     },
     "execution_count": 55,
     "metadata": {},
     "output_type": "execute_result"
    }
   ],
   "source": [
    "[[a+i for a in range(2,6)] for i in range(4)]"
   ]
  },
  {
   "cell_type": "code",
   "execution_count": null,
   "id": "6dd40ac6",
   "metadata": {},
   "outputs": [],
   "source": [
    "# e.[(1, 1), (2, 1), (3, 1), (1, 2), (2, 2), (3, 2), (1, 3), (2, 3), (3, 3)"
   ]
  },
  {
   "cell_type": "code",
   "execution_count": 60,
   "id": "96ae47ae",
   "metadata": {},
   "outputs": [
    {
     "data": {
      "text/plain": [
       "[(1, 1), (2, 1), (3, 1), (1, 2), (2, 2), (3, 2), (1, 3), (2, 3), (3, 3)]"
      ]
     },
     "execution_count": 60,
     "metadata": {},
     "output_type": "execute_result"
    }
   ],
   "source": [
    "[(j,i) for i in range(1,4) for j in range(1,4)]"
   ]
  },
  {
   "cell_type": "code",
   "execution_count": null,
   "id": "16e2034d",
   "metadata": {},
   "outputs": [],
   "source": [
    "#1.1 Write a Python Program to implement your own myreduce() function which works exactly \n",
    "#like Python's built-in function reduce()\n"
   ]
  },
  {
   "cell_type": "code",
   "execution_count": 1,
   "id": "62b9b19a",
   "metadata": {},
   "outputs": [
    {
     "data": {
      "text/plain": [
       "42"
      ]
     },
     "execution_count": 1,
     "metadata": {},
     "output_type": "execute_result"
    }
   ],
   "source": [
    "# Function simillar to function reduce which will give the sum of list.\n",
    "\n",
    "def myreduce(funxn,ls):\n",
    "    sumls = ls[0]\n",
    "    for i in ls[1:]:\n",
    "        sumls = funxn(sumls,i)\n",
    "    return sumls\n",
    "\n",
    "def sumls1(x,y):\n",
    "    return x+y\n",
    "\n",
    "myreduce(sumls1,[2,4,6,8,10,12])"
   ]
  },
  {
   "cell_type": "code",
   "execution_count": 3,
   "id": "9279cea5",
   "metadata": {},
   "outputs": [
    {
     "data": {
      "text/plain": [
       "42"
      ]
     },
     "execution_count": 3,
     "metadata": {},
     "output_type": "execute_result"
    }
   ],
   "source": [
    "# Same Output can be achived by reduce function.\n",
    "from functools import reduce\n",
    "ls = [2,4,6,8,10,12]\n",
    "reduce(lambda x,y:x+y,ls)"
   ]
  },
  {
   "cell_type": "code",
   "execution_count": null,
   "id": "b3689c23",
   "metadata": {},
   "outputs": [],
   "source": [
    "#1.2 Write a Python program to implement your own myfilter() function which works exactly \n",
    "#like Python's built-in function filter()'''"
   ]
  },
  {
   "cell_type": "code",
   "execution_count": 6,
   "id": "f8daba42",
   "metadata": {},
   "outputs": [],
   "source": [
    "# Function simillar to Fuction filter which will filter out the +ve value from list\n",
    "\n",
    "def myfilter(funxn,ls):\n",
    "    pstv = []\n",
    "    ngtv = []\n",
    "    for i in ls:\n",
    "        if funxn(i)==True:\n",
    "            pstv.append(i)\n",
    "    return pstv\n",
    "\n",
    "def check_pos_neg(val):\n",
    "    if val > 0:\n",
    "        return True\n",
    "               "
   ]
  },
  {
   "cell_type": "code",
   "execution_count": 7,
   "id": "c485142f",
   "metadata": {},
   "outputs": [
    {
     "data": {
      "text/plain": [
       "[2, 3, 1, 8]"
      ]
     },
     "execution_count": 7,
     "metadata": {},
     "output_type": "execute_result"
    }
   ],
   "source": [
    "myfilter(check_pos_neg,[2,3,-3,1,-5,8])"
   ]
  },
  {
   "cell_type": "code",
   "execution_count": 9,
   "id": "2ad17de1",
   "metadata": {},
   "outputs": [
    {
     "data": {
      "text/plain": [
       "[2, 3, 1, 8]"
      ]
     },
     "execution_count": 9,
     "metadata": {},
     "output_type": "execute_result"
    }
   ],
   "source": [
    "# Same Output can be Achived by filter function\n",
    "list(filter(lambda x: x>0,[2,3,-3,1,-5,8]))"
   ]
  },
  {
   "cell_type": "code",
   "execution_count": null,
   "id": "a019f297",
   "metadata": {},
   "outputs": [],
   "source": []
  }
 ],
 "metadata": {
  "kernelspec": {
   "display_name": "Python 3",
   "language": "python",
   "name": "python3"
  },
  "language_info": {
   "codemirror_mode": {
    "name": "ipython",
    "version": 3
   },
   "file_extension": ".py",
   "mimetype": "text/x-python",
   "name": "python",
   "nbconvert_exporter": "python",
   "pygments_lexer": "ipython3",
   "version": "3.8.8"
  }
 },
 "nbformat": 4,
 "nbformat_minor": 5
}
