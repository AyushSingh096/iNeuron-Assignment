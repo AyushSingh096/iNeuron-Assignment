{
 "cells": [
  {
   "cell_type": "markdown",
   "id": "2de01111",
   "metadata": {},
   "source": [
    "# PPT Program Assignment-1"
   ]
  },
  {
   "cell_type": "code",
   "execution_count": 4,
   "id": "4db93eeb",
   "metadata": {},
   "outputs": [
    {
     "data": {
      "text/plain": [
       "'\"17. Write a function that takes a list of numbers as input and returns a new list containing only the even numbers from the input list. Use list comprehension to solve this problem.\\n\\nExample:\\n\\nInput: [1, 2, 3, 4, 5, 6, 7, 8, 9, 10]\\n\\nOutput: [2, 4, 6, 8, 10]'"
      ]
     },
     "execution_count": 4,
     "metadata": {},
     "output_type": "execute_result"
    }
   ],
   "source": [
    "\"\"\"\"17. Write a function that takes a list of numbers as input and returns a new list containing only the even numbers from the input list. Use list comprehension to solve this problem.\n",
    "\n",
    "Example:\n",
    "\n",
    "Input: [1, 2, 3, 4, 5, 6, 7, 8, 9, 10]\n",
    "\n",
    "Output: [2, 4, 6, 8, 10]\"\"\""
   ]
  },
  {
   "cell_type": "code",
   "execution_count": 5,
   "id": "842a7893",
   "metadata": {},
   "outputs": [],
   "source": [
    "def even_list(lst:list)->list:\n",
    "    return list(filter(lambda a:True if a%2 == 0 else False,lst))"
   ]
  },
  {
   "cell_type": "code",
   "execution_count": 6,
   "id": "a4df3174",
   "metadata": {},
   "outputs": [
    {
     "data": {
      "text/plain": [
       "[2, 4, 6, 8, 10]"
      ]
     },
     "execution_count": 6,
     "metadata": {},
     "output_type": "execute_result"
    }
   ],
   "source": [
    "even_list([1,2,3,4,5,6,7,8,9,10])"
   ]
  },
  {
   "cell_type": "code",
   "execution_count": 7,
   "id": "5fc0ad9b",
   "metadata": {},
   "outputs": [
    {
     "data": {
      "text/plain": [
       "'18. Implement a decorator function called ‘timer’ that measures the execution time of a function. \\nThe ‘timer’ decorator should print the time taken by the decorated function to execute. Use the ‘time’ \\nmodule in Python to calculate the execution time.\\n'"
      ]
     },
     "execution_count": 7,
     "metadata": {},
     "output_type": "execute_result"
    }
   ],
   "source": [
    "\"\"\"18. Implement a decorator function called ‘timer’ that measures the execution time of a function. \n",
    "The ‘timer’ decorator should print the time taken by the decorated function to execute. Use the ‘time’ \n",
    "module in Python to calculate the execution time.\n",
    "\"\"\""
   ]
  },
  {
   "cell_type": "code",
   "execution_count": 8,
   "id": "296b78e2",
   "metadata": {},
   "outputs": [
    {
     "name": "stdout",
     "output_type": "stream",
     "text": [
      "Execution time: 2.00898 seconds\n"
     ]
    }
   ],
   "source": [
    "import time\n",
    "\n",
    "def timer(func):\n",
    "    def wrapper(*args, **kwargs):\n",
    "        start_time = time.time()\n",
    "        result = func(*args, **kwargs)\n",
    "        end_time = time.time()\n",
    "        execution_time = end_time - start_time\n",
    "        print(f\"Execution time: {execution_time:.5f} seconds\")\n",
    "        return result\n",
    "    return wrapper\n",
    "@timer\n",
    "def my_function():\n",
    "    time.sleep(2)\n",
    "\n",
    "my_function()"
   ]
  },
  {
   "cell_type": "code",
   "execution_count": 9,
   "id": "04d90a27",
   "metadata": {},
   "outputs": [
    {
     "data": {
      "text/plain": [
       "'19. Write a function called ‘calculate_mean’ that takes a list of numbers as input and returns the mean (average) \\nof the numbers. The function should calculate the mean using the sum of the numbers divided by the total count.\\n'"
      ]
     },
     "execution_count": 9,
     "metadata": {},
     "output_type": "execute_result"
    }
   ],
   "source": [
    "\"\"\"19. Write a function called ‘calculate_mean’ that takes a list of numbers as input and returns the mean (average) \n",
    "of the numbers. The function should calculate the mean using the sum of the numbers divided by the total count.\n",
    "\"\"\""
   ]
  },
  {
   "cell_type": "code",
   "execution_count": 10,
   "id": "a065b85a",
   "metadata": {},
   "outputs": [],
   "source": [
    "def calculate_mean(lst:list):\n",
    "    total = sum(lst)\n",
    "    count = len(lst)\n",
    "    mean = total/count\n",
    "    return mean"
   ]
  },
  {
   "cell_type": "code",
   "execution_count": 11,
   "id": "f050e03d",
   "metadata": {},
   "outputs": [
    {
     "name": "stdout",
     "output_type": "stream",
     "text": [
      "mean is: 20.0\n"
     ]
    }
   ],
   "source": [
    "lst = [10,15,20,25,30]\n",
    "mean_value = calculate_mean(lst)\n",
    "print(\"mean is:\",mean_value)"
   ]
  },
  {
   "cell_type": "code",
   "execution_count": 12,
   "id": "26afba38",
   "metadata": {},
   "outputs": [
    {
     "data": {
      "text/plain": [
       "'20. Write a function called ‘perform_hypothesis_test’ that takes two lists of numbers as input, \\nrepresenting two samples. The function should perform a two-sample t-test and return the p-value. \\nUse the ‘scipy.stats’ module in Python to calculate the t-test and p-value.\\n'"
      ]
     },
     "execution_count": 12,
     "metadata": {},
     "output_type": "execute_result"
    }
   ],
   "source": [
    "\"\"\"20. Write a function called ‘perform_hypothesis_test’ that takes two lists of numbers as input, \n",
    "representing two samples. The function should perform a two-sample t-test and return the p-value. \n",
    "Use the ‘scipy.stats’ module in Python to calculate the t-test and p-value.\n",
    "\"\"\""
   ]
  },
  {
   "cell_type": "code",
   "execution_count": 13,
   "id": "741967c0",
   "metadata": {},
   "outputs": [
    {
     "name": "stdout",
     "output_type": "stream",
     "text": [
      "P-value: 0.09434977284243756\n"
     ]
    }
   ],
   "source": [
    "from scipy import stats\n",
    "\n",
    "def perform_hypothesis_test(sample1, sample2):\n",
    "    t_statistic, p_value = stats.ttest_ind(sample1, sample2)\n",
    "    return p_value\n",
    "sample1 = [5, 10, 15, 20, 25]\n",
    "sample2 = [10, 20, 30, 40, 50]\n",
    "p_value = perform_hypothesis_test(sample1, sample2)\n",
    "print(\"P-value:\", p_value)\n"
   ]
  },
  {
   "cell_type": "code",
   "execution_count": null,
   "id": "ed3e8bf0",
   "metadata": {},
   "outputs": [],
   "source": []
  },
  {
   "cell_type": "code",
   "execution_count": null,
   "id": "433c2562",
   "metadata": {},
   "outputs": [],
   "source": []
  },
  {
   "cell_type": "code",
   "execution_count": null,
   "id": "f4f2a737",
   "metadata": {},
   "outputs": [],
   "source": []
  }
 ],
 "metadata": {
  "kernelspec": {
   "display_name": "Python 3",
   "language": "python",
   "name": "python3"
  },
  "language_info": {
   "codemirror_mode": {
    "name": "ipython",
    "version": 3
   },
   "file_extension": ".py",
   "mimetype": "text/x-python",
   "name": "python",
   "nbconvert_exporter": "python",
   "pygments_lexer": "ipython3",
   "version": "3.8.8"
  }
 },
 "nbformat": 4,
 "nbformat_minor": 5
}
