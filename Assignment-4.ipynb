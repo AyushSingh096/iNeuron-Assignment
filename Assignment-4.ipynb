{
 "cells": [
  {
   "cell_type": "markdown",
   "id": "65db4afd",
   "metadata": {},
   "source": [
    "# Assignment - 4:"
   ]
  },
  {
   "cell_type": "code",
   "execution_count": null,
   "id": "040c4cb5",
   "metadata": {},
   "outputs": [],
   "source": [
    "# 1.2 Write a function filter_long_words() that takes a list of words and an integer n and returns \n",
    "#the list of words that are longer than n."
   ]
  },
  {
   "cell_type": "code",
   "execution_count": 8,
   "id": "da1654de",
   "metadata": {},
   "outputs": [],
   "source": [
    "def filter_long_words(lwrd,n):\n",
    "    ln = len(lwrd)\n",
    "    if n < ln:\n",
    "        print('The entered word is: ',lwrd)\n",
    "    else:\n",
    "        print('Length of word is too short')"
   ]
  },
  {
   "cell_type": "code",
   "execution_count": 9,
   "id": "e8d34850",
   "metadata": {},
   "outputs": [
    {
     "name": "stdout",
     "output_type": "stream",
     "text": [
      "Enter a wordayushsingh\n",
      "Enter a no5\n",
      "The entered word is:  ayushsingh\n"
     ]
    }
   ],
   "source": [
    "lwrd = input('Enter a word')\n",
    "n = int(input('Enter a no'))\n",
    "filter_long_words(lwrd,n)"
   ]
  },
  {
   "cell_type": "code",
   "execution_count": null,
   "id": "76e10e66",
   "metadata": {},
   "outputs": [],
   "source": [
    "#2.1 Write a Python program using function concept that maps list of words into a list of integers \n",
    "#representing the lengths of the corresponding words.\n",
    "#Hint: If a list [ ab,cde,erty] is passed on to the python function output should come as [2,3,4]\n",
    "#Here 2,3 and 4 are the lengths of the words in the list."
   ]
  },
  {
   "cell_type": "code",
   "execution_count": 11,
   "id": "1b4d6374",
   "metadata": {},
   "outputs": [
    {
     "data": {
      "text/plain": [
       "[2, 3, 4]"
      ]
     },
     "execution_count": 11,
     "metadata": {},
     "output_type": "execute_result"
    }
   ],
   "source": [
    "ls = ['ab','cde','erty']\n",
    "list(map(lambda i: len(i), ls))"
   ]
  },
  {
   "cell_type": "code",
   "execution_count": null,
   "id": "159c7172",
   "metadata": {},
   "outputs": [],
   "source": [
    "#2.2 Write a Python function which takes a character (i.e. a string of length 1) and returns True if \n",
    "#it is a vowel, False otherwise."
   ]
  },
  {
   "cell_type": "code",
   "execution_count": 16,
   "id": "c13d93ae",
   "metadata": {},
   "outputs": [],
   "source": [
    "def chk_vvl(c):\n",
    "    ch = c.upper()\n",
    "    ls = ['A','E','I','O','U']\n",
    "    if ch in ls:\n",
    "        print('True')\n",
    "    else:\n",
    "        print('False')"
   ]
  },
  {
   "cell_type": "code",
   "execution_count": 17,
   "id": "e7e46a05",
   "metadata": {},
   "outputs": [
    {
     "name": "stdout",
     "output_type": "stream",
     "text": [
      "Enter a charactera\n",
      "True\n"
     ]
    }
   ],
   "source": [
    "\n",
    "c = input('Enter a character')\n",
    "if len(c) == 1:\n",
    "    chk_vvl(c)\n",
    "else:\n",
    "    print('Enter only 1 charcter of length 1')"
   ]
  },
  {
   "cell_type": "code",
   "execution_count": null,
   "id": "b6332d10",
   "metadata": {},
   "outputs": [],
   "source": [
    "#1.1 Write a Python Program(with class concepts) to find the area of the triangle using the below formula.\n",
    "#area = (s*(s-a)*(s-b)*(s-c)) ** 0.5\n",
    "#Function to take the length of the sides of triangle from user should be defined in the parent \n",
    "#class and function to calculate the area should be defined in subclass.\n"
   ]
  },
  {
   "cell_type": "code",
   "execution_count": 6,
   "id": "387b080a",
   "metadata": {},
   "outputs": [],
   "source": [
    "class Parent:\n",
    "    def user_Input(self):\n",
    "        self.x = int(input(\"Enter first side\"))\n",
    "        self.y = int(input(\"Enter second side\"))\n",
    "        self.z = int(input(\"Enter third side\"))\n",
    "        return self.x, self.y, self.z"
   ]
  },
  {
   "cell_type": "code",
   "execution_count": 7,
   "id": "b2e6b705",
   "metadata": {},
   "outputs": [
    {
     "name": "stdout",
     "output_type": "stream",
     "text": [
      "Enter first side23\n",
      "Enter second side34\n",
      "Enter third side12\n",
      "Area of triangle is: 66.80896272207794\n"
     ]
    }
   ],
   "source": [
    "class Child(Parent):\n",
    "    def calc_Area(self):\n",
    "        self.x, self.y, self.z = super(Child, self).user_Input()\n",
    "        s = (self.x+self.y+self.z)/2.0\n",
    "        triangle_Area = (s*(s-self.x)*(s-self.y)*(s-self.z))**(0.5)\n",
    "        return triangle_Area\n",
    "child = Child()\n",
    "\n",
    "print(\"Area of triangle is: \" + str(child.calc_Area()))"
   ]
  },
  {
   "cell_type": "code",
   "execution_count": null,
   "id": "28939fe8",
   "metadata": {},
   "outputs": [],
   "source": []
  }
 ],
 "metadata": {
  "kernelspec": {
   "display_name": "Python 3",
   "language": "python",
   "name": "python3"
  },
  "language_info": {
   "codemirror_mode": {
    "name": "ipython",
    "version": 3
   },
   "file_extension": ".py",
   "mimetype": "text/x-python",
   "name": "python",
   "nbconvert_exporter": "python",
   "pygments_lexer": "ipython3",
   "version": "3.8.8"
  }
 },
 "nbformat": 4,
 "nbformat_minor": 5
}
