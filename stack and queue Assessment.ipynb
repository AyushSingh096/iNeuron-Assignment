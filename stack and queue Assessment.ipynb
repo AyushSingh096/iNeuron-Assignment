{
 "cells": [
  {
   "cell_type": "markdown",
   "id": "53732a4d",
   "metadata": {},
   "source": [
    "## PPT Program Assessment for Stack and Queue"
   ]
  },
  {
   "cell_type": "code",
   "execution_count": 1,
   "id": "310af4e5",
   "metadata": {},
   "outputs": [],
   "source": [
    "##1. Implement a stack using a list in Python. Include the necessary methods such as push, pop, and isEmpty."
   ]
  },
  {
   "cell_type": "code",
   "execution_count": 2,
   "id": "a272b83e",
   "metadata": {},
   "outputs": [],
   "source": [
    "from collections import deque\n",
    "class stack:\n",
    "    \n",
    "    def __init__(self,ls):\n",
    "        self.ls = []\n",
    "        \n",
    "    def push(self,data):\n",
    "        self.ls.append(data)\n",
    "        \n",
    "    def pop(self):\n",
    "        return self.ls.pop()\n",
    "    \n",
    "    def isEmpty(self):\n",
    "        return len(self.ls) == 0\n",
    "    "
   ]
  },
  {
   "cell_type": "code",
   "execution_count": 3,
   "id": "590be54e",
   "metadata": {},
   "outputs": [],
   "source": [
    "s = stack([])\n",
    "s.push(19)\n",
    "s.push(18)\n",
    "s.push(12)\n",
    "s.push(5)\n",
    "s.push(14)"
   ]
  },
  {
   "cell_type": "code",
   "execution_count": 4,
   "id": "4157f214",
   "metadata": {},
   "outputs": [
    {
     "data": {
      "text/plain": [
       "14"
      ]
     },
     "execution_count": 4,
     "metadata": {},
     "output_type": "execute_result"
    }
   ],
   "source": [
    "s.pop()"
   ]
  },
  {
   "cell_type": "code",
   "execution_count": 5,
   "id": "6bf44abf",
   "metadata": {},
   "outputs": [
    {
     "data": {
      "text/plain": [
       "False"
      ]
     },
     "execution_count": 5,
     "metadata": {},
     "output_type": "execute_result"
    }
   ],
   "source": [
    "s.isEmpty()"
   ]
  },
  {
   "cell_type": "code",
   "execution_count": null,
   "id": "86130b44",
   "metadata": {},
   "outputs": [],
   "source": []
  },
  {
   "cell_type": "code",
   "execution_count": 6,
   "id": "f4fdbfbe",
   "metadata": {},
   "outputs": [],
   "source": [
    "##2. Implement a queue using a list in Python. Include the necessary methods such as enqueue, dequeue, and isEmpty."
   ]
  },
  {
   "cell_type": "code",
   "execution_count": 7,
   "id": "d3c5fe06",
   "metadata": {},
   "outputs": [],
   "source": [
    "class Queue:\n",
    "    def __init__(self,ls:list):\n",
    "        self.ls = []\n",
    "        \n",
    "    def enque(self,data):\n",
    "        self.ls.insert(0,data)\n",
    "        \n",
    "    def dequeue(self):\n",
    "        return self.ls.pop()\n",
    "        \n",
    "    def isEmpty(self):\n",
    "        return len(self.ls) == 0\n",
    "    "
   ]
  },
  {
   "cell_type": "code",
   "execution_count": 8,
   "id": "7c650414",
   "metadata": {},
   "outputs": [],
   "source": [
    "q = Queue([])"
   ]
  },
  {
   "cell_type": "code",
   "execution_count": 9,
   "id": "ba9a5492",
   "metadata": {},
   "outputs": [],
   "source": [
    "q.enque(12)\n",
    "q.enque(14)\n",
    "q.enque(16)\n",
    "q.enque(18)\n",
    "q.enque(19)"
   ]
  },
  {
   "cell_type": "code",
   "execution_count": 10,
   "id": "264a087b",
   "metadata": {},
   "outputs": [
    {
     "data": {
      "text/plain": [
       "12"
      ]
     },
     "execution_count": 10,
     "metadata": {},
     "output_type": "execute_result"
    }
   ],
   "source": [
    "q.dequeue()"
   ]
  },
  {
   "cell_type": "code",
   "execution_count": 11,
   "id": "4fdfcec6",
   "metadata": {},
   "outputs": [
    {
     "data": {
      "text/plain": [
       "14"
      ]
     },
     "execution_count": 11,
     "metadata": {},
     "output_type": "execute_result"
    }
   ],
   "source": [
    "q.dequeue()"
   ]
  },
  {
   "cell_type": "code",
   "execution_count": 12,
   "id": "d9281d87",
   "metadata": {},
   "outputs": [
    {
     "data": {
      "text/plain": [
       "False"
      ]
     },
     "execution_count": 12,
     "metadata": {},
     "output_type": "execute_result"
    }
   ],
   "source": [
    "q.isEmpty()"
   ]
  },
  {
   "cell_type": "code",
   "execution_count": null,
   "id": "ab0b6968",
   "metadata": {},
   "outputs": [],
   "source": []
  }
 ],
 "metadata": {
  "kernelspec": {
   "display_name": "Python 3",
   "language": "python",
   "name": "python3"
  },
  "language_info": {
   "codemirror_mode": {
    "name": "ipython",
    "version": 3
   },
   "file_extension": ".py",
   "mimetype": "text/x-python",
   "name": "python",
   "nbconvert_exporter": "python",
   "pygments_lexer": "ipython3",
   "version": "3.8.8"
  }
 },
 "nbformat": 4,
 "nbformat_minor": 5
}
