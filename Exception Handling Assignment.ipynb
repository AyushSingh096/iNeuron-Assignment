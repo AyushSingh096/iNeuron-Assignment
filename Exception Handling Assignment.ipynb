{
 "cells": [
  {
   "cell_type": "markdown",
   "id": "64d9f8c8",
   "metadata": {},
   "source": [
    "# Task - 1"
   ]
  },
  {
   "cell_type": "raw",
   "id": "8d6e601f",
   "metadata": {},
   "source": [
    "1. Write a function to compute 5/0 and use try/except to catch the exceptions."
   ]
  },
  {
   "cell_type": "code",
   "execution_count": 10,
   "id": "1bf1a2e2",
   "metadata": {},
   "outputs": [],
   "source": [
    "def divnum():\n",
    "    try:\n",
    "        a = int(input('Enter an Integer---'))\n",
    "        b = int(input('Enter an Integer---'))\n",
    "        c = a/b\n",
    "    except ValueError as v:\n",
    "        print('You Have entered wrong data type')\n",
    "        print(v)\n",
    "    except ZeroDivisionError as z:\n",
    "        print('number cannot be divided by zero')\n",
    "        print(z)\n",
    "    else:\n",
    "        print('Division is:',c)\n",
    "    finally:\n",
    "        print('Finall Code Executed')"
   ]
  },
  {
   "cell_type": "code",
   "execution_count": 11,
   "id": "faa1c12b",
   "metadata": {},
   "outputs": [
    {
     "name": "stdout",
     "output_type": "stream",
     "text": [
      "Enter an Integer---jbj\n",
      "You Have entered wrong data type\n",
      "invalid literal for int() with base 10: 'jbj'\n",
      "Finall Code Executed\n"
     ]
    }
   ],
   "source": [
    "divnum()"
   ]
  },
  {
   "cell_type": "code",
   "execution_count": 12,
   "id": "ec554417",
   "metadata": {},
   "outputs": [
    {
     "name": "stdout",
     "output_type": "stream",
     "text": [
      "Enter an Integer---10\n",
      "Enter an Integer---0\n",
      "number cannot be divided by zero\n",
      "division by zero\n",
      "Finall Code Executed\n"
     ]
    }
   ],
   "source": [
    "divnum()"
   ]
  },
  {
   "cell_type": "code",
   "execution_count": 13,
   "id": "6fdf7c30",
   "metadata": {},
   "outputs": [
    {
     "name": "stdout",
     "output_type": "stream",
     "text": [
      "Enter an Integer---5\n",
      "Enter an Integer---2\n",
      "Division is: 2.5\n",
      "Finall Code Executed\n"
     ]
    }
   ],
   "source": [
    "divnum()"
   ]
  },
  {
   "cell_type": "markdown",
   "id": "56f81f25",
   "metadata": {},
   "source": [
    "# Task - 2"
   ]
  },
  {
   "cell_type": "raw",
   "id": "2ff54f9e",
   "metadata": {},
   "source": [
    "2. Implement a Python program to generate all sentences where subject is in \n",
    "[\"Americans\", \"Indians\"] and verb is in [\"Play\", \"watch\"] and the object is in \n",
    "[\"Baseball\",\"cricket\"].\n",
    "Hint: Subject,Verb and Object should be declared in the program as shown below."
   ]
  },
  {
   "cell_type": "code",
   "execution_count": 14,
   "id": "43da1aac",
   "metadata": {},
   "outputs": [
    {
     "name": "stdout",
     "output_type": "stream",
     "text": [
      "Americans  play Baseball\n",
      "Americans  play Cricket\n",
      "Americans  watch Baseball\n",
      "Americans  watch Cricket\n",
      "Indians play Baseball\n",
      "Indians play Cricket\n",
      "Indians watch Baseball\n",
      "Indians watch Cricket\n"
     ]
    }
   ],
   "source": [
    "subjects=[\"Americans \",\"Indians\"]\n",
    "verbs=[\"play\",\"watch\"]\n",
    "objects=[\"Baseball\",\"Cricket\"]\n",
    "for a in subjects:\n",
    "    for b in verbs:\n",
    "        for c in objects:\n",
    "            print(a,b,c)"
   ]
  },
  {
   "cell_type": "code",
   "execution_count": null,
   "id": "17fd32e9",
   "metadata": {},
   "outputs": [],
   "source": []
  }
 ],
 "metadata": {
  "kernelspec": {
   "display_name": "Python 3",
   "language": "python",
   "name": "python3"
  },
  "language_info": {
   "codemirror_mode": {
    "name": "ipython",
    "version": 3
   },
   "file_extension": ".py",
   "mimetype": "text/x-python",
   "name": "python",
   "nbconvert_exporter": "python",
   "pygments_lexer": "ipython3",
   "version": "3.8.8"
  }
 },
 "nbformat": 4,
 "nbformat_minor": 5
}
